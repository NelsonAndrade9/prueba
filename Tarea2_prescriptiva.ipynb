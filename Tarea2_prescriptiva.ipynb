{
  "nbformat": 4,
  "nbformat_minor": 0,
  "metadata": {
    "colab": {
      "name": "Tarea2_prescriptiva.ipynb",
      "provenance": [],
      "collapsed_sections": []
    },
    "kernelspec": {
      "name": "python3",
      "display_name": "Python 3"
    },
    "language_info": {
      "name": "python"
    }
  },
  "cells": [
    {
      "cell_type": "markdown",
      "source": [
        "# Tarea 2\n",
        "\n",
        "Grupo 3:\n",
        "- Mario Castellanos\n",
        "- Nelson Andrade\n",
        "- Sebastian Ovalle"
      ],
      "metadata": {
        "id": "BeaohpGEIH4S"
      }
    },
    {
      "cell_type": "code",
      "execution_count": 16,
      "metadata": {
        "id": "Kaq95XkUe2ls",
        "colab": {
          "base_uri": "https://localhost:8080/"
        },
        "outputId": "6f5f733b-b2c9-4c62-ebc2-2eb99c428e15"
      },
      "outputs": [
        {
          "output_type": "stream",
          "name": "stdout",
          "text": [
            "Collecting pulp\n",
            "  Downloading PuLP-2.6.0-py3-none-any.whl (14.2 MB)\n",
            "\u001b[K     |████████████████████████████████| 14.2 MB 7.7 MB/s \n",
            "\u001b[?25hInstalling collected packages: pulp\n",
            "Successfully installed pulp-2.6.0\n"
          ]
        }
      ],
      "source": [
        "pip install pulp\n"
      ]
    },
    {
      "cell_type": "code",
      "source": [
        "from pulp import *"
      ],
      "metadata": {
        "id": "iDUIUaN2L1p4"
      },
      "execution_count": 17,
      "outputs": []
    },
    {
      "cell_type": "markdown",
      "source": [
        "## Ejercicio tipo \"problema de dieta\""
      ],
      "metadata": {
        "id": "r8DCaTDMHyiz"
      }
    },
    {
      "cell_type": "markdown",
      "source": [
        "There are three factories on the Momiss River (1, 2, and 3). Each emits two types of pollutants (1 and 2) into the river. If the waste from each factory is processed, the pollution in the river can be reduced. It costs 15 to process a ton of factory 1 waste, and each ton processed reduces the amount of pollutant 1 by 0.10 ton and the amount of pollutant 2 by 0.45 ton. It costs 10 to process a ton of factory 2 waste, and each ton processed will reduce the amount of pollutant 1 by 0.20 ton and the amount of pollutant 2 by 0.25 ton. It costs $20 to process a ton of factory 3 waste, and each ton processed will reduce the amount of pollutant 1 by 0.40 ton and the amount of pollutant 2 by 0.30 ton. The state wants to reduce the amount of pollutant 1 in the river by at least 30 tons and the amount of pollutant 2 in the river by at least 40 tons. Formulate an LP that will minimize the cost of reducing pollution by the desired amounts. Do you think that the LP assumptions (Proportionality, Additivity, Divisibility, and Certainty) are reasonable for this problem?"
      ],
      "metadata": {
        "id": "jT02kbPRIF__"
      }
    },
    {
      "cell_type": "markdown",
      "source": [
        "__Conjuntos:__\n",
        "\n",
        "* Fabricas\n",
        " * i = [1,2,3]\n",
        "\n",
        "__Parametros:__\n",
        "\n",
        "* Costos por procesar 1ton de desecho:\n",
        "\n",
        "  * costo_fabrica1=15\n",
        "\n",
        "  * costo_fabrica2=10\n",
        "\n",
        "  * costo_fabrica3=20\n",
        "\n",
        "* Reducción de contaminante:\n",
        "\n",
        "  * waste1$_i$\n",
        "\n",
        "  * waste2$_i$\n",
        "\n",
        "* Reducción deseada de contaminante:\n",
        "\n",
        "  * DA1=30\n",
        "\n",
        "  * DA2=40\n",
        "\n",
        "__Varibles de decisión:__\n",
        "\n",
        "* Xi = Cantidad de desechos a procesar en i fabrica i={1,2,3}\n",
        "\n",
        "__Función objetivo:__\n",
        "\n",
        "$$ 15X1 + 10X2 + 20X3 = min Z $$\n",
        "\n",
        "__Restricciones:__\n",
        "\n",
        "* Reducción deseada del contaminante 1 = $$ 0.10X1 + 0.20X2 + 0.40X3  >= 30 $$\n",
        "* Reducción deseada del contaminante 2 = $$ 0.45X1 + 0.25X2 + 0.30X3  >= 40 $$\n"
      ],
      "metadata": {
        "id": "gPj7rqGdM4-T"
      }
    },
    {
      "cell_type": "code",
      "source": [
        "#conjuntos\n",
        "fabricas = range(3)\n",
        "\n",
        "#parametros\n",
        "\n",
        "costo_fabrica= [15,10,20]\n",
        "waste1=[0.1,0.2,0.4]\n",
        "waste2=[0.45,0.25,0.3]\n",
        "DA1=30\n",
        "DA2=40\n",
        "\n",
        "# se crea la instancia de modelo\n",
        "model = LpProblem(name=\"ejercicio1\", sense=LpMinimize)\n",
        "\n",
        "#Inicialización de las variables de decisión\n",
        "X = LpVariable.dicts(\"Desechos a procesar de la fabrica\",(fabricas),0,None,LpContinuous)\n",
        "\n",
        "# se agrega la funciion objetivo\n",
        "model += lpSum([costo_fabrica[i]*X[i] for i in fabricas])\n",
        "\n",
        "#restricciones\n",
        "                  \n",
        "model += lpSum([waste1[i]*X[i] for i in fabricas]) >= DA1\n",
        "\n",
        "model += lpSum([waste2[i]*X[i] for i in fabricas]) >= DA2\n",
        "\n",
        "\n",
        "# se resuelve el problema usando el solver por defecto (CBC)\n",
        "status = model.solve()\n",
        "\n",
        "# se imprime el status del problema\n",
        "print(\"Status:\", LpStatus[model.status])\n",
        "\n",
        "# se imprime la funcion objetivo\n",
        "print(\"Costo de reducir la contaminación en las cantidades deseadas=\", value(model.objective))\n",
        "\n",
        "# Se imprimen las variables\n",
        "for v in model.variables():\n",
        "  print(v.name, \"=\", v.varValue)\n"
      ],
      "metadata": {
        "id": "QikJnQOJKQB0",
        "colab": {
          "base_uri": "https://localhost:8080/"
        },
        "outputId": "8df659cd-b544-4704-dd1a-c65325ac26e6"
      },
      "execution_count": 55,
      "outputs": [
        {
          "output_type": "stream",
          "name": "stdout",
          "text": [
            "Status: Optimal\n",
            "Costo de reducir la contaminación en las cantidades deseadas= 1576.9231155000002\n",
            "Desechos_a_procesar_de_la_fabrica_0 = 7.6923077\n",
            "Desechos_a_procesar_de_la_fabrica_1 = 146.15385\n",
            "Desechos_a_procesar_de_la_fabrica_2 = 0.0\n"
          ]
        }
      ]
    },
    {
      "cell_type": "markdown",
      "source": [
        "## Problema de planeación de producción e inventarios"
      ],
      "metadata": {
        "id": "RjUgD90ah4kv"
      }
    },
    {
      "cell_type": "markdown",
      "source": [
        "James Beerd bakes cheesecakes and Black Forest cakes. During any month, he can bake at most 65 cakes. The costs per cake and the demands for cakes, which must be met on time, are listed in Table 33. It costs 50¢ to hold a cheesecake, and 40¢ to hold a Black Forest cake, in inventory for a month. Formulate an LP to minimize the total cost of meeting the next three months’ demands. \n",
        "\n",
        "|Item|Demand (Month1)|Cost/Cake (Month1)|Demand (Month2)|Cost/Cake (Month2)|Demand (Month3)|Cost/Cake (Month3)|\n",
        "|----|---------------|------------------|---------------|------------------|---------------|------------------|\n",
        "| Cheesecake   |40|3.00|30|3.40|20|3.80|\n",
        "| Black Forest |20|2.50|30|2.80|10|3.40|\n"
      ],
      "metadata": {
        "id": "TMvlfQydiaCP"
      }
    },
    {
      "cell_type": "markdown",
      "source": [
        "__Conjuntos:__\n",
        "\n",
        "* Meses\n",
        " * i= [1,2,3]\n",
        "\n",
        "__Parametros:__\n",
        "\n",
        "* Costo de producción de pasteles de acuerdo con los valores de costos de la tabla:\n",
        "  * costo_CC$_i$\n",
        "  * costo_BF$_i$\n",
        "* Costo de inventario:\n",
        "  * costo_ICC = 0.5\n",
        "  * costo_IBF = 0.4\n",
        "* Demanda de pasteles de acuerdo con las columnas de demanda de la tabla:\n",
        "  * DCC$_i$\n",
        "  * DBF$_i$\n",
        "* Inventario inicial para ambos tipos de pasteles:  \n",
        "  * IO = 0\n",
        "* Maxima cantidad de pasteles que se pueden hornear cada mes:\n",
        "  * Max_Cake = 65\n",
        "\n",
        "\n",
        "__Varibles de decisión:__\n",
        "\n",
        "* CC$_i$ = Cantidad de Cheesecake a producir por mes\n",
        "* BF$_i$ = Cantidad de Black Forest a producir por mes\n",
        "* ICC$_i$ = Inventario de cheesecake al final de cada mes\n",
        "* IBF$_i$ = Inventario de black forest al final de cada mes\n",
        "\n",
        "\n",
        "__Función objetivo:__\n",
        "\n",
        "$$ min Z = 3CC[1] + 3.4CC[2] + 3.8CC[3] + 2.5BF[1] + 2.8BF[2] + 3.4BF[3] + 0.5(ICC[1] + ICC[2] + ICC[3]) + 0.4(IBF[1] + IBF[2] + IBF[3]) $$\n",
        "\n",
        "__Restricciones:__\n",
        "\n",
        "* Cantidad de pasteles maxima que puede hornear por mes=\n",
        "$$ CC_i + BF_i <= Max\\_Cake $$\n",
        "$$ ∀_{i} $$ \n",
        "\n",
        "* Inventario cheesecake mes 1 =\n",
        "$$ IO + CC[1] - DCC[1] = ICC[1] $$\n",
        "* Inventario black forest mes 1 =\n",
        "$$ IO + BF[1] - DBF[1] = IBF[1] $$\n",
        "* Inventario cheesecake meses siguientes =\n",
        "$$ ICC_{i-1} + CC_i - DCC_i = ICC_i $$\n",
        "$$ ∀_{i>1} $$\n",
        "* Inventario black forest meses siguientes =\n",
        "$$ IBF_{i-1} + BF_i - DBF_i = IBF_i $$\n",
        "$$ ∀_{i>1} $$"
      ],
      "metadata": {
        "id": "7ch2BR4p0vTM"
      }
    },
    {
      "cell_type": "code",
      "source": [
        "#conjuntos\n",
        "meses = range(3)\n",
        "\n",
        "#parametros\n",
        "costo_CC = [3,3.4,3.8]\n",
        "costo_BF = [2.5,2.8,3.4]\n",
        "costo_ICC = 0.5\n",
        "costo_IBF = 0.4\n",
        "DCC = [40,30,20]\n",
        "DBF = [20,30,10]\n",
        "IO = 0\n",
        "Max_Cake = 65\n",
        "\n",
        "\n",
        "# se crea la instancia de modelo\n",
        "model = LpProblem(name=\"ejercicio2\", sense=LpMinimize)\n",
        "\n",
        "#Inicialización de las variables de decisión\n",
        "CC = LpVariable.dicts(\"Cantidad de Cheesecake a producir en el mes\",(meses),0,None,LpContinuous)\n",
        "BF = LpVariable.dicts(\"Cantidad de Black Forest a producir en el mes\",(meses),0,None,LpContinuous)\n",
        "ICC = LpVariable.dicts(\"Inventario de cheesecake al final del mes\",(meses),0,None,LpContinuous)\n",
        "IBF = LpVariable.dicts(\"Inventario de Black Forest al final del mes\",(meses),0,None,LpContinuous)\n",
        "\n",
        "# se agrega la funciion objetivo\n",
        "model += lpSum([costo_CC[i]*CC[i] for i in meses])+lpSum([costo_BF[i]*BF[i] for i in meses])+lpSum([costo_ICC*ICC[i] for i in meses])+lpSum([costo_IBF*IBF[i] for i in meses])\n",
        "\n",
        "\n",
        "#restricciones\n",
        "\n",
        "#Cantidad de pasteles maxima que puede hornear por mes\n",
        "for i in meses:\n",
        "  model += CC[i] + BF[i]  <= Max_Cake\n",
        "\n",
        "#Inventario cheesecake mes 1 \n",
        "model += IO + CC[0] - DCC[0] == ICC[0]\n",
        "\n",
        "#Inventario black forest mes 1 \n",
        "model += IO + BF[0] - DBF[0] == IBF[0]\n",
        "\n",
        "#Inventario cheesecake meses siguientes\n",
        "for i in range(1,3):\n",
        "  model += ICC[i-1] + CC[i] - DCC[i] == ICC[i]\n",
        "\n",
        "# Inventario black forest meses siguientes\n",
        "for i in range(1,3):\n",
        "  model += IBF[i-1] + BF[i] - DBF[i] == IBF[i] \n",
        "\n",
        "\n",
        "# se resuelve el problema usando el solver por defecto (CBC)\n",
        "status = model.solve()\n",
        "\n",
        "# se imprime el status del problema\n",
        "print(\"Status:\", LpStatus[model.status])\n",
        "\n",
        "# se imprime la funcion objetivo\n",
        "print(\"utilidad=\", value(model.objective))\n",
        "\n",
        "# Se imprimen las variables\n",
        "for v in model.variables():\n",
        "  print(v.name, \"=\", v.varValue)\n"
      ],
      "metadata": {
        "colab": {
          "base_uri": "https://localhost:8080/"
        },
        "id": "yM7KHYHWUjzt",
        "outputId": "70e2bc3f-00b5-4e14-8950-618de9fe363c"
      },
      "execution_count": 56,
      "outputs": [
        {
          "output_type": "stream",
          "name": "stdout",
          "text": [
            "Status: Optimal\n",
            "utilidad= 464.5\n",
            "Cantidad_de_Black_Forest_a_producir_en_el_mes_0 = 25.0\n",
            "Cantidad_de_Black_Forest_a_producir_en_el_mes_1 = 35.0\n",
            "Cantidad_de_Black_Forest_a_producir_en_el_mes_2 = 0.0\n",
            "Cantidad_de_Cheesecake_a_producir_en_el_mes_0 = 40.0\n",
            "Cantidad_de_Cheesecake_a_producir_en_el_mes_1 = 30.0\n",
            "Cantidad_de_Cheesecake_a_producir_en_el_mes_2 = 20.0\n",
            "Inventario_de_Black_Forest_al_final_del_mes_0 = 5.0\n",
            "Inventario_de_Black_Forest_al_final_del_mes_1 = 10.0\n",
            "Inventario_de_Black_Forest_al_final_del_mes_2 = 0.0\n",
            "Inventario_de_cheesecake_al_final_del_mes_0 = 0.0\n",
            "Inventario_de_cheesecake_al_final_del_mes_1 = 0.0\n",
            "Inventario_de_cheesecake_al_final_del_mes_2 = 0.0\n"
          ]
        }
      ]
    }
  ]
}